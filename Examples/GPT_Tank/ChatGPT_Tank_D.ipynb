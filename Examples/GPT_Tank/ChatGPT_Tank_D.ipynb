{
 "cells": [
  {
   "cell_type": "code",
   "execution_count": 1,
   "metadata": {},
   "outputs": [
    {
     "name": "stdout",
     "output_type": "stream",
     "text": [
      "Connecting to server...\n"
     ]
    }
   ],
   "source": [
    "import os\n",
    "import sys\n",
    "\n",
    "from RFEM.enums import LineSupportType, SurfaceGeometry, SurfaceLoadDirection, SurfaceLoadDistribution, ActionCategoryType\n",
    "from RFEM.initModel import Calculate_all, Model\n",
    "from RFEM.BasicObjects.node import Node\n",
    "from RFEM.BasicObjects.line import Line\n",
    "from RFEM.BasicObjects.material import Material\n",
    "from RFEM.BasicObjects.thickness import Thickness\n",
    "from RFEM.BasicObjects.surface import Surface\n",
    "from RFEM.TypesForLines.lineSupport import LineSupport\n",
    "from RFEM.TypesForNodes.nodalSupport import NodalSupport\n",
    "from RFEM.Results.resultTables import GetMaxValue, ResultTables\n",
    "from RFEM.Loads.surfaceLoad import SurfaceLoad\n",
    "from RFEM.LoadCasesAndCombinations.loadCase import LoadCase\n",
    "from RFEM.ImportExport.exports import ExportTo\n",
    "\n",
    "Model(True, 'ChatGPT_Tank.rf6')\n",
    "Model.clientModel.service.begin_modification()"
   ]
  },
  {
   "cell_type": "markdown",
   "metadata": {},
   "source": [
    "# Allgemeiner PROMPT\n",
    "\n",
    "#### Ich möchte einen zylindrischen Stahldruckbehälter mit einem Durchmesser von 2 m, einer Höhe von 5 m und einem oberen Deckel unter Schneelast auf der Oberseite erstellen. Die untere Kreislinie ist gelagert. Die Dicke des Deckels beträgt 10 mm und die des Zylindermantels 4 mm. Die Schneelast beträgt 0.25 kN/m².\n"
   ]
  },
  {
   "cell_type": "markdown",
   "metadata": {},
   "source": [
    "# MATERIAL"
   ]
  },
  {
   "cell_type": "code",
   "execution_count": 2,
   "metadata": {},
   "outputs": [
    {
     "data": {
      "text/plain": [
       "<RFEM.BasicObjects.material.Material at 0x2551e905410>"
      ]
     },
     "execution_count": 2,
     "metadata": {},
     "output_type": "execute_result"
    }
   ],
   "source": [
    "Material(1, \"S235\")"
   ]
  },
  {
   "cell_type": "markdown",
   "metadata": {},
   "source": [
    "# GEOMETRY"
   ]
  },
  {
   "cell_type": "code",
   "execution_count": 3,
   "metadata": {},
   "outputs": [
    {
     "data": {
      "text/plain": [
       "<RFEM.TypesForLines.lineSupport.LineSupport at 0x2551eb35750>"
      ]
     },
     "execution_count": 3,
     "metadata": {},
     "output_type": "execute_result"
    }
   ],
   "source": [
    "# Define the bottom circle (base of the cylinder)\n",
    "Node(1, 0, 0, 0)  # Center of the bottom circle\n",
    "Node(2, 1, 0, 0)  # Point on the circumference of the bottom circle\n",
    "\n",
    "# Define the top circle (top of the cylinder)\n",
    "Node(3, 0, 0, -5)  # Center of the top circle (5m height in negative Z direction)\n",
    "Node(4, 1, 0, -5)  # Point on the circumference of the top circle\n",
    "\n",
    "# Define the lines for the bottom and top circles\n",
    "Line.Circle(1, [0, 0, 0], 1, [0, 0, 1])  # Bottom circle with radius 1m\n",
    "Line.Circle(2, [0, 0, -5], 1, [0, 0, 1])  # Top circle with radius 1m\n",
    "\n",
    "# Define the vertical lines (cylinder sides)\n",
    "Line(3, '2 4')  # Line from bottom circumference to top circumference\n",
    "\n",
    "# Define the line support at the bottom circle\n",
    "LineSupport(1, '1', LineSupportType.HINGED)"
   ]
  },
  {
   "cell_type": "markdown",
   "metadata": {},
   "source": [
    "# CROSSSECTION"
   ]
  },
  {
   "cell_type": "code",
   "execution_count": 4,
   "metadata": {},
   "outputs": [],
   "source": [
    "# Define the thickness for the top cover\n",
    "Thickness(1, '10 mm', 1, 0.010)\n",
    "\n",
    "# Define the thickness for the cylindrical shell\n",
    "Thickness(2, '4 mm', 1, 0.004)\n",
    "\n",
    "# Define the top cover as a flat plane surface\n",
    "Surface.Standard(1, SurfaceGeometry.GEOMETRY_PLANE, None, '2', 1)\n",
    "\n",
    "# Define the cylindrical shell as a surface of revolution\n",
    "Surface.Standard(2, SurfaceGeometry.GEOMETRY_ROTATED, [360, [0, 0, 0], [0, 0, 1], 3], '3', 2)"
   ]
  },
  {
   "cell_type": "markdown",
   "metadata": {},
   "source": [
    "# LOADS"
   ]
  },
  {
   "cell_type": "code",
   "execution_count": 5,
   "metadata": {},
   "outputs": [
    {
     "data": {
      "text/plain": [
       "<RFEM.LoadCasesAndCombinations.loadCase.LoadCase at 0x2551e911790>"
      ]
     },
     "execution_count": 5,
     "metadata": {},
     "output_type": "execute_result"
    }
   ],
   "source": [
    "# Define the load case without self-weight\n",
    "LoadCase(1, 'Snow Load', self_weight=[False])\n",
    "\n",
    "# Define the snow load on the top cover\n",
    "SurfaceLoad.Force(\n",
    "    no=1,\n",
    "    load_case_no=1,\n",
    "    surface_no='1',\n",
    "    load_direction=SurfaceLoadDirection.LOAD_DIRECTION_GLOBAL_Z_OR_USER_DEFINED_W_TRUE,\n",
    "    load_distribution=SurfaceLoadDistribution.LOAD_DISTRIBUTION_UNIFORM,\n",
    "    load_parameter=[0.25 * 1000]\n",
    ")\n",
    "\n",
    "# Define the load case for self-weight with double effect in Z direction\n",
    "LoadCase(2, 'Self-weight', self_weight=[True, 0.0, 0.0, 2.0])"
   ]
  },
  {
   "cell_type": "markdown",
   "metadata": {},
   "source": [
    "# SOLVER AUFRUFEN"
   ]
  },
  {
   "cell_type": "code",
   "execution_count": 6,
   "metadata": {},
   "outputs": [
    {
     "data": {
      "text/plain": [
       "<suds.sudsobject.calculation_result at 0x2552680b6d0>"
      ]
     },
     "execution_count": 6,
     "metadata": {},
     "output_type": "execute_result"
    }
   ],
   "source": [
    "# ---- Solver Sec ----\n",
    "Model.clientModel.service.finish_modification()\n",
    "\n",
    "Calculate_all()"
   ]
  },
  {
   "cell_type": "markdown",
   "metadata": {},
   "source": [
    "# ERGEBNISSE"
   ]
  },
  {
   "cell_type": "code",
   "execution_count": 7,
   "metadata": {},
   "outputs": [
    {
     "data": {
      "text/plain": [
       "9.153163"
      ]
     },
     "execution_count": 7,
     "metadata": {},
     "output_type": "execute_result"
    }
   ],
   "source": [
    "# ---- Results Sec ----\n",
    "global maxStress\n",
    "maxStressinit = ResultTables.SurfacesEquivalentStressesMises()\n",
    "maxStress = GetMaxValue(maxStressinit, 'equivalent_stresses_sigma_eqv_max') / 1000000\n",
    "\n",
    "maxStress"
   ]
  }
 ],
 "metadata": {
  "kernelspec": {
   "display_name": "text2model_Pytorch",
   "language": "python",
   "name": "python3"
  },
  "language_info": {
   "codemirror_mode": {
    "name": "ipython",
    "version": 3
   },
   "file_extension": ".py",
   "mimetype": "text/x-python",
   "name": "python",
   "nbconvert_exporter": "python",
   "pygments_lexer": "ipython3",
   "version": "3.11.5"
  }
 },
 "nbformat": 4,
 "nbformat_minor": 2
}
