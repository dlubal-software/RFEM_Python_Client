{
 "cells": [
  {
   "cell_type": "code",
   "execution_count": 1,
   "metadata": {},
   "outputs": [
    {
     "name": "stdout",
     "output_type": "stream",
     "text": [
      "Connecting to server...\n"
     ]
    }
   ],
   "source": [
    "import os\n",
    "import sys\n",
    "\n",
    "from RFEM.enums import LineSupportType, SurfaceGeometry, SurfaceLoadDirection, SurfaceLoadDistribution, ActionCategoryType\n",
    "from RFEM.initModel import Calculate_all, Model\n",
    "from RFEM.BasicObjects.node import Node\n",
    "from RFEM.BasicObjects.line import Line\n",
    "from RFEM.BasicObjects.material import Material\n",
    "from RFEM.BasicObjects.thickness import Thickness\n",
    "from RFEM.BasicObjects.surface import Surface\n",
    "from RFEM.TypesForLines.lineSupport import LineSupport\n",
    "from RFEM.TypesForNodes.nodalSupport import NodalSupport\n",
    "from RFEM.Results.resultTables import GetMaxValue, ResultTables\n",
    "from RFEM.Loads.surfaceLoad import SurfaceLoad\n",
    "from RFEM.LoadCasesAndCombinations.loadCase import LoadCase\n",
    "from RFEM.ImportExport.exports import ExportTo\n",
    "\n",
    "Model(True, 'ChatGPT_Tank.rf6')\n",
    "Model.clientModel.service.begin_modification()"
   ]
  },
  {
   "cell_type": "markdown",
   "metadata": {},
   "source": [
    "# GENERAL PROMPT\n",
    "\n",
    "#### I want to create a cylindrical steel pressure vessel with a diameter of 2m, heigt 5 m and an upper lid under snow load on the top. The support is at the bottom circular line. the thickness of the lid is 10 mm and for the cylinder shell 4 mm. the magnitude of the snow load is 0.25 kN/m²."
   ]
  },
  {
   "cell_type": "markdown",
   "metadata": {},
   "source": [
    "# MATERIAL"
   ]
  },
  {
   "cell_type": "code",
   "execution_count": 2,
   "metadata": {},
   "outputs": [
    {
     "data": {
      "text/plain": [
       "<RFEM.BasicObjects.material.Material at 0x2172f04aec0>"
      ]
     },
     "execution_count": 2,
     "metadata": {},
     "output_type": "execute_result"
    }
   ],
   "source": [
    "Material(1, \"S235\")"
   ]
  },
  {
   "cell_type": "markdown",
   "metadata": {},
   "source": [
    "# GEOMETRY"
   ]
  },
  {
   "cell_type": "code",
   "execution_count": 3,
   "metadata": {},
   "outputs": [
    {
     "data": {
      "text/plain": [
       "<RFEM.TypesForLines.lineSupport.LineSupport at 0x2173a1ea050>"
      ]
     },
     "execution_count": 3,
     "metadata": {},
     "output_type": "execute_result"
    }
   ],
   "source": [
    "# Define nodes for the bottom and top circles\n",
    "Node(1, 0, 0, 0)  # Center of the bottom circle\n",
    "Node(2, 1, 0, 0)  # Point on the perimeter of the bottom circle\n",
    "Node(3, 0, 0, -5) # Center of the top circle\n",
    "Node(4, 1, 0, -5) # Point on the perimeter of the top circle\n",
    "\n",
    "# Define the bottom circle\n",
    "Line.Circle(1, [0, 0, 0], 1, [0, 0, 1])\n",
    "\n",
    "# Define the top circle\n",
    "Line.Circle(2, [0, 0, -5], 1, [0, 0, 1])\n",
    "\n",
    "# Define the vertical lines connecting the top and bottom circles    \n",
    "Line(3, '2 4')  # Line from bottom perimeter to top perimeter        \n",
    "\n",
    "# Define the support at the bottom circle\n",
    "LineSupport(1, '1', LineSupportType.HINGED)"
   ]
  },
  {
   "cell_type": "markdown",
   "metadata": {},
   "source": [
    "# CROSSSECTION"
   ]
  },
  {
   "cell_type": "code",
   "execution_count": 4,
   "metadata": {},
   "outputs": [],
   "source": [
    "# Define the thickness for the lid and the tank wall\n",
    "Thickness(1, '5 mm Lid', 1, 0.005)  # 5 mm thickness for the lid     \n",
    "Thickness(2, '3 mm Wall', 1, 0.003)  # 3 mm thickness for the tank wall\n",
    "\n",
    "# Define the surfaces for the lid and the tank wall\n",
    "Surface.Standard(1, SurfaceGeometry.GEOMETRY_PLANE, None, '2', 1)  # Top lid surface using the top circle\n",
    "Surface.Standard(2, SurfaceGeometry.GEOMETRY_ROTATED, [360, [0, 0, 0], [0, 0, 1], 3], '3', 2)  # Cylindrical wall surface using the vertical line"
   ]
  },
  {
   "cell_type": "markdown",
   "metadata": {},
   "source": [
    "# LOADS"
   ]
  },
  {
   "cell_type": "code",
   "execution_count": 5,
   "metadata": {},
   "outputs": [],
   "source": [
    "# Define the load case without self-weight\n",
    "LoadCase(1, 'Snow Load', self_weight=[False])\n",
    "\n",
    "# Define the snow load on the top lid surface\n",
    "SurfaceLoad.Force(\n",
    "    no=1,\n",
    "    load_case_no=1,\n",
    "    surface_no='1',  # Top lid surface\n",
    "    load_direction=SurfaceLoadDirection.LOAD_DIRECTION_GLOBAL_Z_OR_USER_DEFINED_W_TRUE,\n",
    "    load_distribution=SurfaceLoadDistribution.LOAD_DISTRIBUTION_UNIFORM,\n",
    "    load_parameter=[0.25 * 1000]  # Convert kN/m² to N/m²\n",
    ")"
   ]
  },
  {
   "cell_type": "markdown",
   "metadata": {},
   "source": [
    "# APPLY CALL"
   ]
  },
  {
   "cell_type": "code",
   "execution_count": 6,
   "metadata": {},
   "outputs": [],
   "source": [
    "Model.clientModel.service.finish_modification()"
   ]
  },
  {
   "cell_type": "markdown",
   "metadata": {},
   "source": [
    "# Calculate Call"
   ]
  },
  {
   "cell_type": "code",
   "execution_count": 7,
   "metadata": {},
   "outputs": [
    {
     "data": {
      "text/plain": [
       "<suds.sudsobject.calculation_result at 0x2173addbf10>"
      ]
     },
     "execution_count": 7,
     "metadata": {},
     "output_type": "execute_result"
    }
   ],
   "source": [
    "Calculate_all()"
   ]
  },
  {
   "cell_type": "markdown",
   "metadata": {},
   "source": [
    "# GET RESULTS"
   ]
  },
  {
   "cell_type": "code",
   "execution_count": 8,
   "metadata": {},
   "outputs": [
    {
     "data": {
      "text/plain": [
       "16.647792"
      ]
     },
     "execution_count": 8,
     "metadata": {},
     "output_type": "execute_result"
    }
   ],
   "source": [
    "global maxStress\n",
    "maxStressinit = ResultTables.SurfacesEquivalentStressesMises()\n",
    "maxStress = GetMaxValue(maxStressinit, 'equivalent_stresses_sigma_eqv_max') / 1000000\n",
    "\n",
    "maxStress"
   ]
  }
 ],
 "metadata": {
  "kernelspec": {
   "display_name": "text2model_Pytorch",
   "language": "python",
   "name": "python3"
  },
  "language_info": {
   "codemirror_mode": {
    "name": "ipython",
    "version": 3
   },
   "file_extension": ".py",
   "mimetype": "text/x-python",
   "name": "python",
   "nbconvert_exporter": "python",
   "pygments_lexer": "ipython3",
   "version": "3.10.8"
  }
 },
 "nbformat": 4,
 "nbformat_minor": 2
}
